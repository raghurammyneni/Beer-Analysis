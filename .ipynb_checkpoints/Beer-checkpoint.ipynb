{
 "cells": [
  {
   "cell_type": "code",
   "execution_count": 1,
   "metadata": {
    "collapsed": true
   },
   "outputs": [],
   "source": [
    "#read files - beers.csv and breweries.csv\n",
    "beerPath = \"file:///Users/raghumyneni/spark/ipython files/kaggel/beer/beers.csv\"\n",
    "breweriesPath = \"file:///Users/raghumyneni/spark/ipython files/kaggel/beer/breweries.csv\"\n",
    "beerRawData = sc.textFile(beerPath)\n",
    "breweriesRawData = sc.textFile(breweriesPath)"
   ]
  },
  {
   "cell_type": "code",
   "execution_count": 2,
   "metadata": {
    "collapsed": false
   },
   "outputs": [
    {
     "data": {
      "text/plain": [
       "[u',abv,ibu,id,name,style,brewery_id,ounces',\n",
       " u'0,0.05,,1436,Pub Beer,American Pale Lager,408,12.0',\n",
       " u\"1,0.066,,2265,Devil's Cup,American Pale Ale (APA),177,12.0\",\n",
       " u'2,0.071,,2264,Rise of the Phoenix,American IPA,177,12.0',\n",
       " u'3,0.09,,2263,Sinister,American Double / Imperial IPA,177,12.0',\n",
       " u'4,0.075,,2262,Sex and Candy,American IPA,177,12.0',\n",
       " u'5,0.077,,2261,Black Exodus,Oatmeal Stout,177,12.0',\n",
       " u'6,0.045,,2260,Lake Street Express,American Pale Ale (APA),177,12.0',\n",
       " u'7,0.065,,2259,Foreman,American Porter,177,12.0',\n",
       " u'8,0.055,,2258,Jade,American Pale Ale (APA),177,12.0']"
      ]
     },
     "execution_count": 2,
     "metadata": {},
     "output_type": "execute_result"
    }
   ],
   "source": [
    "#beer data\n",
    "beerRawData.take(10)"
   ]
  },
  {
   "cell_type": "code",
   "execution_count": 3,
   "metadata": {
    "collapsed": false
   },
   "outputs": [
    {
     "data": {
      "text/plain": [
       "[u',name,city,state',\n",
       " u'0,NorthGate Brewing ,Minneapolis, MN',\n",
       " u'1,Against the Grain Brewery,Louisville, KY',\n",
       " u\"2,Jack's Abby Craft Lagers,Framingham, MA\",\n",
       " u'3,Mike Hess Brewing Company,San Diego, CA',\n",
       " u'4,Fort Point Beer Company,San Francisco, CA',\n",
       " u'5,COAST Brewing Company,Charleston, SC',\n",
       " u'6,Great Divide Brewing Company,Denver, CO',\n",
       " u'7,Tapistry Brewing,Bridgman, MI',\n",
       " u'8,Big Lake Brewing,Holland, MI']"
      ]
     },
     "execution_count": 3,
     "metadata": {},
     "output_type": "execute_result"
    }
   ],
   "source": [
    "#breweries data\n",
    "breweriesRawData.take(10)"
   ]
  },
  {
   "cell_type": "code",
   "execution_count": 4,
   "metadata": {
    "collapsed": false
   },
   "outputs": [
    {
     "data": {
      "text/plain": [
       "u'beer_row_num,abv,ibu,id,name,style,brewery_id,ounces'"
      ]
     },
     "execution_count": 4,
     "metadata": {},
     "output_type": "execute_result"
    }
   ],
   "source": [
    "#separate header from data\n",
    "beerHeader = 'beer_row_num' + beerRawData.first()\n",
    "beerHeader"
   ]
  },
  {
   "cell_type": "code",
   "execution_count": 5,
   "metadata": {
    "collapsed": false
   },
   "outputs": [
    {
     "data": {
      "text/plain": [
       "[u'14',\n",
       " u'0.061',\n",
       " u'60.0',\n",
       " u'1979',\n",
       " u'Bitter Bitch',\n",
       " u'American Pale Ale (APA)',\n",
       " u'177',\n",
       " u'12.0']"
      ]
     },
     "execution_count": 5,
     "metadata": {},
     "output_type": "execute_result"
    }
   ],
   "source": [
    "#separate data\n",
    "#discard rows with missing data\n",
    "beerData = beerRawData.filter(lambda x: 'name,style,brewery_id' not in x) \\\n",
    "                    .filter(lambda x: ',,' not in x) \\\n",
    "                    .map(lambda x: x.split(\",\"))\n",
    "beerData.first()"
   ]
  },
  {
   "cell_type": "code",
   "execution_count": 6,
   "metadata": {
    "collapsed": false
   },
   "outputs": [
    {
     "name": "stdout",
     "output_type": "stream",
     "text": [
      "class Beer(tuple):\n",
      "    'Beer(beer_row_num, abv, ibu, id, name, style, brewery_id, ounces)'\n",
      "\n",
      "    __slots__ = ()\n",
      "\n",
      "    _fields = ('beer_row_num', 'abv', 'ibu', 'id', 'name', 'style', 'brewery_id', 'ounces')\n",
      "\n",
      "    def __new__(_cls, beer_row_num, abv, ibu, id, name, style, brewery_id, ounces):\n",
      "        'Create new instance of Beer(beer_row_num, abv, ibu, id, name, style, brewery_id, ounces)'\n",
      "        return _tuple.__new__(_cls, (beer_row_num, abv, ibu, id, name, style, brewery_id, ounces))\n",
      "\n",
      "    @classmethod\n",
      "    def _make(cls, iterable, new=tuple.__new__, len=len):\n",
      "        'Make a new Beer object from a sequence or iterable'\n",
      "        result = new(cls, iterable)\n",
      "        if len(result) != 8:\n",
      "            raise TypeError('Expected 8 arguments, got %d' % len(result))\n",
      "        return result\n",
      "\n",
      "    def __repr__(self):\n",
      "        'Return a nicely formatted representation string'\n",
      "        return 'Beer(beer_row_num=%r, abv=%r, ibu=%r, id=%r, name=%r, style=%r, brewery_id=%r, ounces=%r)' % self\n",
      "\n",
      "    def _asdict(self):\n",
      "        'Return a new OrderedDict which maps field names to their values'\n",
      "        return OrderedDict(zip(self._fields, self))\n",
      "\n",
      "    def _replace(_self, **kwds):\n",
      "        'Return a new Beer object replacing specified fields with new values'\n",
      "        result = _self._make(map(kwds.pop, ('beer_row_num', 'abv', 'ibu', 'id', 'name', 'style', 'brewery_id', 'ounces'), _self))\n",
      "        if kwds:\n",
      "            raise ValueError('Got unexpected field names: %r' % kwds.keys())\n",
      "        return result\n",
      "\n",
      "    def __getnewargs__(self):\n",
      "        'Return self as a plain tuple.  Used by copy and pickle.'\n",
      "        return tuple(self)\n",
      "\n",
      "    __dict__ = _property(_asdict)\n",
      "\n",
      "    def __getstate__(self):\n",
      "        'Exclude the OrderedDict from pickling'\n",
      "        pass\n",
      "\n",
      "    beer_row_num = _property(_itemgetter(0), doc='Alias for field number 0')\n",
      "\n",
      "    abv = _property(_itemgetter(1), doc='Alias for field number 1')\n",
      "\n",
      "    ibu = _property(_itemgetter(2), doc='Alias for field number 2')\n",
      "\n",
      "    id = _property(_itemgetter(3), doc='Alias for field number 3')\n",
      "\n",
      "    name = _property(_itemgetter(4), doc='Alias for field number 4')\n",
      "\n",
      "    style = _property(_itemgetter(5), doc='Alias for field number 5')\n",
      "\n",
      "    brewery_id = _property(_itemgetter(6), doc='Alias for field number 6')\n",
      "\n",
      "    ounces = _property(_itemgetter(7), doc='Alias for field number 7')\n",
      "\n",
      "\n"
     ]
    }
   ],
   "source": [
    "#beer class\n",
    "from collections import namedtuple\n",
    "Beer = namedtuple('Beer', beerHeader.split(\",\"), verbose=True)"
   ]
  },
  {
   "cell_type": "code",
   "execution_count": 7,
   "metadata": {
    "collapsed": true
   },
   "outputs": [],
   "source": [
    "#parse beer data\n",
    "def parseBeer(row):\n",
    "    row[0] = int(row[0])\n",
    "    row[1] = float(row[1])\n",
    "    row[2] = float(row[2])\n",
    "    row[3] = int(row[3])\n",
    "    row[6] = int(row[6])\n",
    "    row[7] = float(row[7])\n",
    "    return Beer(*row[:8])"
   ]
  },
  {
   "cell_type": "code",
   "execution_count": 8,
   "metadata": {
    "collapsed": false
   },
   "outputs": [
    {
     "data": {
      "text/plain": [
       "Beer(beer_row_num=14, abv=0.061, ibu=60.0, id=1979, name=u'Bitter Bitch', style=u'American Pale Ale (APA)', brewery_id=177, ounces=12.0)"
      ]
     },
     "execution_count": 8,
     "metadata": {},
     "output_type": "execute_result"
    }
   ],
   "source": [
    "beerParsed = beerData.map(parseBeer)\n",
    "beerParsed.first()"
   ]
  },
  {
   "cell_type": "code",
   "execution_count": 9,
   "metadata": {
    "collapsed": false
   },
   "outputs": [
    {
     "data": {
      "text/plain": [
       "u'brewery_id,name,city,state'"
      ]
     },
     "execution_count": 9,
     "metadata": {},
     "output_type": "execute_result"
    }
   ],
   "source": [
    "#separate header from data\n",
    "breweryHeader = 'brewery_id' + breweriesRawData.first()\n",
    "breweryHeader"
   ]
  },
  {
   "cell_type": "code",
   "execution_count": 10,
   "metadata": {
    "collapsed": false
   },
   "outputs": [
    {
     "data": {
      "text/plain": [
       "[u'0', u'NorthGateBrewing', u'Minneapolis', u'MN']"
      ]
     },
     "execution_count": 10,
     "metadata": {},
     "output_type": "execute_result"
    }
   ],
   "source": [
    "#separate data\n",
    "#discard rows with missing data \n",
    "#cleanup the rows\n",
    "breweryData = breweriesRawData.filter(lambda x: 'name,city,state' not in x) \\\n",
    "                    .filter(lambda x: ',,' not in x) \\\n",
    "                    .map(lambda x: x.replace(\" \", \"\")) \\\n",
    "                    .map(lambda x: x.split(\",\"))\n",
    "breweryData.first()"
   ]
  },
  {
   "cell_type": "code",
   "execution_count": 11,
   "metadata": {
    "collapsed": false
   },
   "outputs": [
    {
     "name": "stdout",
     "output_type": "stream",
     "text": [
      "class Brewery(tuple):\n",
      "    'Brewery(brewery_id, name, city, state)'\n",
      "\n",
      "    __slots__ = ()\n",
      "\n",
      "    _fields = ('brewery_id', 'name', 'city', 'state')\n",
      "\n",
      "    def __new__(_cls, brewery_id, name, city, state):\n",
      "        'Create new instance of Brewery(brewery_id, name, city, state)'\n",
      "        return _tuple.__new__(_cls, (brewery_id, name, city, state))\n",
      "\n",
      "    @classmethod\n",
      "    def _make(cls, iterable, new=tuple.__new__, len=len):\n",
      "        'Make a new Brewery object from a sequence or iterable'\n",
      "        result = new(cls, iterable)\n",
      "        if len(result) != 4:\n",
      "            raise TypeError('Expected 4 arguments, got %d' % len(result))\n",
      "        return result\n",
      "\n",
      "    def __repr__(self):\n",
      "        'Return a nicely formatted representation string'\n",
      "        return 'Brewery(brewery_id=%r, name=%r, city=%r, state=%r)' % self\n",
      "\n",
      "    def _asdict(self):\n",
      "        'Return a new OrderedDict which maps field names to their values'\n",
      "        return OrderedDict(zip(self._fields, self))\n",
      "\n",
      "    def _replace(_self, **kwds):\n",
      "        'Return a new Brewery object replacing specified fields with new values'\n",
      "        result = _self._make(map(kwds.pop, ('brewery_id', 'name', 'city', 'state'), _self))\n",
      "        if kwds:\n",
      "            raise ValueError('Got unexpected field names: %r' % kwds.keys())\n",
      "        return result\n",
      "\n",
      "    def __getnewargs__(self):\n",
      "        'Return self as a plain tuple.  Used by copy and pickle.'\n",
      "        return tuple(self)\n",
      "\n",
      "    __dict__ = _property(_asdict)\n",
      "\n",
      "    def __getstate__(self):\n",
      "        'Exclude the OrderedDict from pickling'\n",
      "        pass\n",
      "\n",
      "    brewery_id = _property(_itemgetter(0), doc='Alias for field number 0')\n",
      "\n",
      "    name = _property(_itemgetter(1), doc='Alias for field number 1')\n",
      "\n",
      "    city = _property(_itemgetter(2), doc='Alias for field number 2')\n",
      "\n",
      "    state = _property(_itemgetter(3), doc='Alias for field number 3')\n",
      "\n",
      "\n"
     ]
    }
   ],
   "source": [
    "Brewery = namedtuple('Brewery', breweryHeader.split(\",\"), verbose=True)"
   ]
  },
  {
   "cell_type": "code",
   "execution_count": 12,
   "metadata": {
    "collapsed": false
   },
   "outputs": [
    {
     "data": {
      "text/plain": [
       "Brewery(brewery_id=0, name=u'NorthGateBrewing', city=u'Minneapolis', state=u'MN')"
      ]
     },
     "execution_count": 12,
     "metadata": {},
     "output_type": "execute_result"
    }
   ],
   "source": [
    "#parse brewery data\n",
    "def parseBrewery(row):\n",
    "    row[0] = int(row[0])\n",
    "    return Brewery(*row[:4])\n",
    "\n",
    "breweryParsed = breweryData.map(parseBrewery)\n",
    "breweryParsed.first()"
   ]
  },
  {
   "cell_type": "code",
   "execution_count": 13,
   "metadata": {
    "collapsed": false
   },
   "outputs": [
    {
     "data": {
      "text/plain": [
       "[(u'Tripel', (94.0, 4)),\n",
       " (u'Maibock / Helles Bock', (55.0, 2)),\n",
       " (u'American IPA', (20358.0, 301)),\n",
       " (u'Belgian Pale Ale', (191.0, 8)),\n",
       " (u'Fruit / Vegetable Beer', (426.0, 30)),\n",
       " (u'Berliner Weissbier', (39.0, 5)),\n",
       " (u'Baltic Porter', (162.0, 3)),\n",
       " (u'Irish Dry Stout', (116.0, 3)),\n",
       " (u'Light Lager', (35.0, 3)),\n",
       " (u'California Common / Steam Beer', (82.0, 2))]"
      ]
     },
     "execution_count": 13,
     "metadata": {},
     "output_type": "execute_result"
    }
   ],
   "source": [
    "# Beer Style and Total IBU\n",
    "beerStyleIBUAndCount = beerParsed.map(lambda x: (x.style, x.ibu)) \\\n",
    "                            .combineByKey((lambda value: (value, 1)), \\\n",
    "                                         (lambda acc, value: (acc[0] + value, acc[1] + 1)), \\\n",
    "                                         (lambda acc1, acc2: (acc1[0] + acc2[0], acc1[1] + acc2[1])))\n",
    "    \n",
    "beerStyleIBUAndCount.take(10)"
   ]
  },
  {
   "cell_type": "code",
   "execution_count": 14,
   "metadata": {
    "collapsed": false
   },
   "outputs": [
    {
     "data": {
      "text/plain": [
       "[(u'American Barleywine', 96.0),\n",
       " (u'American Double / Imperial IPA', 93.32),\n",
       " (u'Russian Imperial Stout', 86.5),\n",
       " (u'American Double / Imperial Pilsner', 85.0),\n",
       " (u'Belgian Strong Dark Ale', 72.0),\n",
       " (u'American Black Ale', 68.9),\n",
       " (u'American IPA', 67.63455149501661),\n",
       " (u'English Barleywine', 66.66666666666667),\n",
       " (u'English Stout', 66.0),\n",
       " (u'American Strong Ale', 65.41666666666667),\n",
       " (u'American India Pale Lager', 63.333333333333336),\n",
       " (u'American Double / Imperial Stout', 62.0),\n",
       " (u'Belgian IPA', 57.0),\n",
       " (u'English India Pale Ale (IPA)', 54.714285714285715),\n",
       " (u'Baltic Porter', 54.0),\n",
       " (u'English Strong Ale', 54.0),\n",
       " (u'Rye Beer', 52.0),\n",
       " (u'American White IPA', 48.833333333333336),\n",
       " (u'Extra Special / Strong Bitter (ESB)', 45.714285714285715),\n",
       " (u'American Pale Ale (APA)', 44.94117647058823),\n",
       " (u'American Stout', 41.3125),\n",
       " (u'California Common / Steam Beer', 41.0),\n",
       " (u'Old Ale', 40.0),\n",
       " (u'Irish Dry Stout', 38.666666666666664),\n",
       " (u'Foreign / Export Stout', 38.666666666666664),\n",
       " (u'American Amber / Red Ale', 36.298701298701296),\n",
       " (u'Smoked Beer', 35.0),\n",
       " (u'German Pilsener', 34.1764705882353),\n",
       " (u'Altbier', 34.125),\n",
       " (u'Czech Pilsener', 33.8125),\n",
       " (u'American Porter', 31.923076923076923),\n",
       " (u'English Pale Ale', 31.4),\n",
       " (u'Schwarzbier', 31.0),\n",
       " (u'English Bitter', 30.666666666666668),\n",
       " (u'American Brown Ale', 29.894736842105264),\n",
       " (u'Belgian Dark Ale', 29.666666666666668),\n",
       " (u'Saison / Farmhouse Ale', 28.391304347826086),\n",
       " (u'Oatmeal Stout', 28.09090909090909),\n",
       " (u'Irish Red Ale', 28.0),\n",
       " (u'American Dark Wheat Ale', 27.6),\n",
       " (u'Maibock / Helles Bock', 27.5),\n",
       " (u'American Wild Ale', 27.0),\n",
       " (u'Euro Dark Lager', 27.0),\n",
       " (u'Scottish Ale', 26.90909090909091),\n",
       " (u'American Pale Lager', 26.75),\n",
       " (u'Milk / Sweet Stout', 25.166666666666668),\n",
       " (u'Belgian Strong Pale Ale', 25.0),\n",
       " (u'Bock', 25.0),\n",
       " (u'Grisette', 25.0),\n",
       " (u'Pumpkin Ale', 24.818181818181817),\n",
       " (u'Winter Warmer', 24.625),\n",
       " (u'Doppelbock', 24.5),\n",
       " (u'Vienna Lager', 24.357142857142858),\n",
       " (u'Keller Bier / Zwickel Bier', 24.333333333333332),\n",
       " (u'Scotch Ale / Wee Heavy', 24.23076923076923),\n",
       " (u'Wheat Ale', 24.0),\n",
       " (u'Quadrupel (Quad)', 24.0),\n",
       " (u'Chile Beer', 24.0),\n",
       " (u'Belgian Pale Ale', 23.875),\n",
       " (u'Dortmunder / Export Lager', 23.8),\n",
       " (u'Tripel', 23.5),\n",
       " (u'American Pilsner', 23.285714285714285),\n",
       " (u'American Amber / Red Lager', 23.25),\n",
       " (u'English Brown Ale', 23.2),\n",
       " (u'Bi\\xe8re de Garde', 23.0),\n",
       " (u'Flanders Oud Bruin', 23.0),\n",
       " (u'M\\xe4rzen / Oktoberfest', 22.904761904761905),\n",
       " (u'Herbed / Spiced Beer', 22.2),\n",
       " (u'Abbey Single Ale', 22.0),\n",
       " (u'Euro Pale Lager', 22.0),\n",
       " (u'English Dark Mild Ale', 22.0),\n",
       " (u'K\\xf6lsch', 21.77777777777778),\n",
       " (u'Dubbel', 21.0),\n",
       " (u'American Blonde Ale', 20.983606557377048),\n",
       " (u'American Pale Wheat Ale', 20.688524590163933),\n",
       " (u'Munich Dunkel Lager', 20.333333333333332),\n",
       " (u'Cream Ale', 20.333333333333332),\n",
       " (u'Roggenbier', 20.0),\n",
       " (u'Radler', 19.666666666666668),\n",
       " (u'Munich Helles Lager', 17.916666666666668),\n",
       " (u'Hefeweizen', 17.59259259259259),\n",
       " (u'Witbier', 16.208333333333332),\n",
       " (u'Dunkelweizen', 16.0),\n",
       " (u'English Pale Mild Ale', 16.0),\n",
       " (u'Other', 16.0),\n",
       " (u'Fruit / Vegetable Beer', 14.2),\n",
       " (u'Light Lager', 11.666666666666666),\n",
       " (u'American Adjunct Lager', 11.0),\n",
       " (u'Gose', 9.428571428571429),\n",
       " (u'Berliner Weissbier', 7.8)]"
      ]
     },
     "execution_count": 14,
     "metadata": {},
     "output_type": "execute_result"
    }
   ],
   "source": [
    "# Average IBU for Beer Style sorted\n",
    "beerStyleAvgIBU = beerStyleIBUAndCount.map(lambda x: (x[0], x[1][0]/x[1][1]))\n",
    "beerStyleAvgIBU.sortBy(lambda x: -x[1]).collect()"
   ]
  },
  {
   "cell_type": "code",
   "execution_count": 15,
   "metadata": {
    "collapsed": false
   },
   "outputs": [
    {
     "data": {
      "text/plain": [
       "[(u'Tripel', (0.359, 4)),\n",
       " (u'Maibock / Helles Bock', (0.113, 2)),\n",
       " (u'American IPA', (19.506999999999994, 301)),\n",
       " (u'Belgian Pale Ale', (0.43200000000000005, 8)),\n",
       " (u'Fruit / Vegetable Beer', (1.5400000000000005, 30)),\n",
       " (u'Berliner Weissbier', (0.195, 5)),\n",
       " (u'Baltic Porter', (0.281, 3)),\n",
       " (u'Irish Dry Stout', (0.16999999999999998, 3)),\n",
       " (u'Light Lager', (0.10900000000000001, 3)),\n",
       " (u'California Common / Steam Beer', (0.10700000000000001, 2))]"
      ]
     },
     "execution_count": 15,
     "metadata": {},
     "output_type": "execute_result"
    }
   ],
   "source": [
    "# Beer Style and Total ABV\n",
    "beerStyleABVAndCount = beerParsed.map(lambda x: (x.style, x.abv)) \\\n",
    "                            .combineByKey((lambda value: (value, 1)), \\\n",
    "                                         (lambda acc, value: (acc[0] + value, acc[1] + 1)), \\\n",
    "                                         (lambda acc1, acc2: (acc1[0] + acc2[0], acc1[1] + acc2[1])))\n",
    "    \n",
    "beerStyleABVAndCount.take(10)"
   ]
  },
  {
   "cell_type": "code",
   "execution_count": 16,
   "metadata": {
    "collapsed": false
   },
   "outputs": [
    {
     "data": {
      "text/plain": [
       "[(u'English Barleywine', 0.10766666666666667),\n",
       " (u'Russian Imperial Stout', 0.09949999999999999),\n",
       " (u'American Barleywine', 0.099),\n",
       " (u'American Double / Imperial Stout', 0.09666666666666668),\n",
       " (u'Baltic Porter', 0.09366666666666668),\n",
       " (u'Belgian Strong Dark Ale', 0.092),\n",
       " (u'Quadrupel (Quad)', 0.09),\n",
       " (u'Tripel', 0.08975),\n",
       " (u'American Double / Imperial IPA', 0.08769333333333336),\n",
       " (u'Belgian Strong Pale Ale', 0.08349999999999999),\n",
       " (u'English Strong Ale', 0.08233333333333333),\n",
       " (u'English Stout', 0.08),\n",
       " (u'Doppelbock', 0.07849999999999999),\n",
       " (u'Belgian Dark Ale', 0.078),\n",
       " (u'American Strong Ale', 0.07608333333333334),\n",
       " (u'Scotch Ale / Wee Heavy', 0.0756923076923077),\n",
       " (u'American Double / Imperial Pilsner', 0.075),\n",
       " (u'Dubbel', 0.07450000000000001),\n",
       " (u'American Black Ale', 0.07315),\n",
       " (u'Old Ale', 0.07200000000000001),\n",
       " (u'American Wild Ale', 0.07150000000000001),\n",
       " (u'Scottish Ale', 0.07145454545454545),\n",
       " (u'Belgian IPA', 0.07100000000000001),\n",
       " (u'Winter Warmer', 0.0695),\n",
       " (u'Bi\\xe8re de Garde', 0.069),\n",
       " (u'Rye Beer', 0.0661111111111111),\n",
       " (u'Foreign / Export Stout', 0.06566666666666666),\n",
       " (u'American IPA', 0.06480730897009965),\n",
       " (u'Bock', 0.06333333333333334),\n",
       " (u'Flanders Oud Bruin', 0.063),\n",
       " (u'American India Pale Lager', 0.06266666666666666),\n",
       " (u'English India Pale Ale (IPA)', 0.06214285714285715),\n",
       " (u'American White IPA', 0.062),\n",
       " (u'American Stout', 0.061375),\n",
       " (u'Pumpkin Ale', 0.060454545454545455),\n",
       " (u'American Porter', 0.06033333333333335),\n",
       " (u'Wheat Ale', 0.06),\n",
       " (u'Saison / Farmhouse Ale', 0.058086956521739126),\n",
       " (u'American Brown Ale', 0.0578421052631579),\n",
       " (u'Oatmeal Stout', 0.05763636363636364),\n",
       " (u'Extra Special / Strong Bitter (ESB)', 0.057499999999999996),\n",
       " (u'American Amber / Red Ale', 0.05719480519480521),\n",
       " (u'M\\xe4rzen / Oktoberfest', 0.0570952380952381),\n",
       " (u'Munich Dunkel Lager', 0.056999999999999995),\n",
       " (u'Irish Dry Stout', 0.056666666666666664),\n",
       " (u'Maibock / Helles Bock', 0.0565),\n",
       " (u'Dunkelweizen', 0.055999999999999994),\n",
       " (u'Herbed / Spiced Beer', 0.055999999999999994),\n",
       " (u'Grisette', 0.055999999999999994),\n",
       " (u'Euro Dark Lager', 0.05525),\n",
       " (u'American Pale Ale (APA)', 0.054973856209150324),\n",
       " (u'Milk / Sweet Stout', 0.05483333333333334),\n",
       " (u'Altbier', 0.05462500000000001),\n",
       " (u'Chile Beer', 0.0545),\n",
       " (u'Belgian Pale Ale', 0.054000000000000006),\n",
       " (u'Dortmunder / Export Lager', 0.0538),\n",
       " (u'California Common / Steam Beer', 0.053500000000000006),\n",
       " (u'Cream Ale', 0.05311111111111111),\n",
       " (u'Euro Pale Lager', 0.053),\n",
       " (u'Irish Red Ale', 0.052750000000000005),\n",
       " (u'German Pilsener', 0.05270588235294117),\n",
       " (u'English Brown Ale', 0.0526),\n",
       " (u'Czech Pilsener', 0.0524375),\n",
       " (u'American Dark Wheat Ale', 0.0522),\n",
       " (u'English Pale Ale', 0.0518),\n",
       " (u'Hefeweizen', 0.051629629629629636),\n",
       " (u'Fruit / Vegetable Beer', 0.05133333333333335),\n",
       " (u'American Pale Lager', 0.051062500000000004),\n",
       " (u'Smoked Beer', 0.051),\n",
       " (u'Vienna Lager', 0.05042857142857143),\n",
       " (u'Witbier', 0.050416666666666665),\n",
       " (u'Keller Bier / Zwickel Bier', 0.05033333333333334),\n",
       " (u'American Blonde Ale', 0.05014754098360656),\n",
       " (u'Roggenbier', 0.05),\n",
       " (u'English Pale Mild Ale', 0.05),\n",
       " (u'Munich Helles Lager', 0.049249999999999995),\n",
       " (u'Abbey Single Ale', 0.049),\n",
       " (u'K\\xf6lsch', 0.04844444444444445),\n",
       " (u'American Pilsner', 0.04814285714285714),\n",
       " (u'American Amber / Red Lager', 0.048062499999999994),\n",
       " (u'Other', 0.048),\n",
       " (u'American Pale Wheat Ale', 0.047557377049180324),\n",
       " (u'Schwarzbier', 0.047),\n",
       " (u'American Adjunct Lager', 0.046545454545454536),\n",
       " (u'Gose', 0.04514285714285715),\n",
       " (u'English Bitter', 0.044333333333333336),\n",
       " (u'Radler', 0.04033333333333334),\n",
       " (u'English Dark Mild Ale', 0.04),\n",
       " (u'Berliner Weissbier', 0.039),\n",
       " (u'Light Lager', 0.036333333333333336)]"
      ]
     },
     "execution_count": 16,
     "metadata": {},
     "output_type": "execute_result"
    }
   ],
   "source": [
    "# Average ABV for Beer Style sorted\n",
    "beerStyleAvgABV = beerStyleABVAndCount.map(lambda x: (x[0], x[1][0]/x[1][1]))\n",
    "beerStyleAvgABV.sortBy(lambda x: -x[1]).collect()"
   ]
  },
  {
   "cell_type": "code",
   "execution_count": 17,
   "metadata": {
    "collapsed": false
   },
   "outputs": [
    {
     "data": {
      "text/plain": [
       "[(u'American Barleywine', 9.504000000000001),\n",
       " (u'Russian Imperial Stout', 8.60675),\n",
       " (u'American Double / Imperial IPA', 8.183541866666669),\n",
       " (u'English Barleywine', 7.177777777777779),\n",
       " (u'Belgian Strong Dark Ale', 6.624),\n",
       " (u'American Double / Imperial Pilsner', 6.375),\n",
       " (u'American Double / Imperial Stout', 5.993333333333334),\n",
       " (u'English Stout', 5.28),\n",
       " (u'Baltic Porter', 5.058000000000001),\n",
       " (u'American Black Ale', 5.0400350000000005),\n",
       " (u'American Strong Ale', 4.9771180555555565),\n",
       " (u'English Strong Ale', 4.446),\n",
       " (u'American IPA', 4.383213275791657),\n",
       " (u'Belgian IPA', 4.047000000000001),\n",
       " (u'American India Pale Lager', 3.968888888888889),\n",
       " (u'Rye Beer', 3.4377777777777774),\n",
       " (u'English India Pale Ale (IPA)', 3.400102040816327),\n",
       " (u'American White IPA', 3.0276666666666667),\n",
       " (u'Old Ale', 2.8800000000000003),\n",
       " (u'Extra Special / Strong Bitter (ESB)', 2.6285714285714286),\n",
       " (u'Foreign / Export Stout', 2.539111111111111),\n",
       " (u'American Stout', 2.5355546875),\n",
       " (u'American Pale Ale (APA)', 2.4705897731641673),\n",
       " (u'Belgian Dark Ale', 2.314),\n",
       " (u'California Common / Steam Beer', 2.1935000000000002),\n",
       " (u'Irish Dry Stout', 2.191111111111111),\n",
       " (u'Quadrupel (Quad)', 2.16),\n",
       " (u'Tripel', 2.1091249999999997),\n",
       " (u'Belgian Strong Pale Ale', 2.0875),\n",
       " (u'American Amber / Red Ale', 2.0760971496036436),\n",
       " (u'American Wild Ale', 1.9305000000000003),\n",
       " (u'American Porter', 1.9260256410256416),\n",
       " (u'Doppelbock', 1.9232499999999997),\n",
       " (u'Scottish Ale', 1.9227768595041321),\n",
       " (u'Altbier', 1.8640781250000003),\n",
       " (u'Scotch Ale / Wee Heavy', 1.8340828402366864),\n",
       " (u'German Pilsener', 1.8013010380622838),\n",
       " (u'Smoked Beer', 1.785),\n",
       " (u'Czech Pilsener', 1.77304296875),\n",
       " (u'American Brown Ale', 1.7291745152354574),\n",
       " (u'Winter Warmer', 1.7114375000000002),\n",
       " (u'Saison / Farmhouse Ale', 1.6491644612476368),\n",
       " (u'English Pale Ale', 1.62652),\n",
       " (u'Oatmeal Stout', 1.6190578512396694),\n",
       " (u'Bi\\xe8re de Garde', 1.5870000000000002),\n",
       " (u'Bock', 1.5833333333333335),\n",
       " (u'Dubbel', 1.5645000000000002),\n",
       " (u'Maibock / Helles Bock', 1.55375),\n",
       " (u'Pumpkin Ale', 1.5003719008264462),\n",
       " (u'Euro Dark Lager', 1.49175),\n",
       " (u'Irish Red Ale', 1.477),\n",
       " (u'Schwarzbier', 1.457),\n",
       " (u'Flanders Oud Bruin', 1.449),\n",
       " (u'American Dark Wheat Ale', 1.4407200000000002),\n",
       " (u'Wheat Ale', 1.44),\n",
       " (u'Grisette', 1.4),\n",
       " (u'Milk / Sweet Stout', 1.3799722222222224),\n",
       " (u'American Pale Lager', 1.3659218750000002),\n",
       " (u'English Bitter', 1.3595555555555556),\n",
       " (u'Chile Beer', 1.308),\n",
       " (u'M\\xe4rzen / Oktoberfest', 1.3077528344671203),\n",
       " (u'Belgian Pale Ale', 1.2892500000000002),\n",
       " (u'Dortmunder / Export Lager', 1.28044),\n",
       " (u'Herbed / Spiced Beer', 1.2431999999999999),\n",
       " (u'Vienna Lager', 1.228295918367347),\n",
       " (u'Keller Bier / Zwickel Bier', 1.224777777777778),\n",
       " (u'English Brown Ale', 1.22032),\n",
       " (u'Euro Pale Lager', 1.166),\n",
       " (u'Munich Dunkel Lager', 1.1589999999999998),\n",
       " (u'American Pilsner', 1.1210408163265304),\n",
       " (u'American Amber / Red Lager', 1.117453125),\n",
       " (u'Cream Ale', 1.0799259259259257),\n",
       " (u'Abbey Single Ale', 1.078),\n",
       " (u'K\\xf6lsch', 1.0550123456790126),\n",
       " (u'American Blonde Ale', 1.0522762698199408),\n",
       " (u'Roggenbier', 1.0),\n",
       " (u'American Pale Wheat Ale', 0.983891964525665),\n",
       " (u'Hefeweizen', 0.9082990397805213),\n",
       " (u'Dunkelweizen', 0.8959999999999999),\n",
       " (u'Munich Helles Lager', 0.8823958333333333),\n",
       " (u'English Dark Mild Ale', 0.88),\n",
       " (u'Witbier', 0.8171701388888888),\n",
       " (u'English Pale Mild Ale', 0.8),\n",
       " (u'Radler', 0.7932222222222224),\n",
       " (u'Other', 0.768),\n",
       " (u'Fruit / Vegetable Beer', 0.7289333333333335),\n",
       " (u'American Adjunct Lager', 0.5119999999999999),\n",
       " (u'Gose', 0.42563265306122455),\n",
       " (u'Light Lager', 0.42388888888888887),\n",
       " (u'Berliner Weissbier', 0.30419999999999997)]"
      ]
     },
     "execution_count": 17,
     "metadata": {},
     "output_type": "execute_result"
    }
   ],
   "source": [
    "#Join ABV and IBU for Beer Style\n",
    "beerStyleAvgIBUAndAvgIBU = beerStyleAvgIBU.join(beerStyleAvgABV)\n",
    "beerStyleAvgIBUAndAvgIBU.map(lambda x: (x[0], x[1][0] * x[1][1])) \\\n",
    "                        .sortBy(lambda x: -x[1]).collect()"
   ]
  },
  {
   "cell_type": "code",
   "execution_count": 18,
   "metadata": {
    "collapsed": false
   },
   "outputs": [
    {
     "data": {
      "text/plain": [
       "[(u'CO', 47),\n",
       " (u'CA', 39),\n",
       " (u'MI', 32),\n",
       " (u'OR', 29),\n",
       " (u'TX', 28),\n",
       " (u'PA', 25),\n",
       " (u'WA', 23),\n",
       " (u'MA', 23),\n",
       " (u'IN', 22),\n",
       " (u'WI', 20),\n",
       " (u'NC', 19),\n",
       " (u'IL', 18),\n",
       " (u'NY', 16),\n",
       " (u'VA', 16),\n",
       " (u'FL', 15),\n",
       " (u'OH', 15),\n",
       " (u'MN', 12),\n",
       " (u'AZ', 11),\n",
       " (u'VT', 10),\n",
       " (u'ME', 9),\n",
       " (u'MO', 9),\n",
       " (u'MT', 9),\n",
       " (u'CT', 8),\n",
       " (u'AK', 7),\n",
       " (u'GA', 7),\n",
       " (u'MD', 7),\n",
       " (u'OK', 6),\n",
       " (u'IA', 5),\n",
       " (u'LA', 5),\n",
       " (u'NE', 5),\n",
       " (u'RI', 5),\n",
       " (u'ID', 5),\n",
       " (u'WY', 4),\n",
       " (u'SC', 4),\n",
       " (u'KY', 4),\n",
       " (u'HI', 4),\n",
       " (u'NM', 4),\n",
       " (u'UT', 4),\n",
       " (u'NJ', 3),\n",
       " (u'TN', 3),\n",
       " (u'KS', 3),\n",
       " (u'AL', 3),\n",
       " (u'NH', 2),\n",
       " (u'NV', 2),\n",
       " (u'MS', 2),\n",
       " (u'DE', 2),\n",
       " (u'AR', 2),\n",
       " (u'ND', 1),\n",
       " (u'NorthWoodstock', 1),\n",
       " (u'DC', 1),\n",
       " (u'WV', 1),\n",
       " (u'SD', 1)]"
      ]
     },
     "execution_count": 18,
     "metadata": {},
     "output_type": "execute_result"
    }
   ],
   "source": [
    "# number of breweries per state\n",
    "breweriesPerState = breweryParsed.map(lambda x: (x.state, 1)) \\\n",
    "                                .reduceByKey(lambda x,y: x+y)\n",
    "breweriesPerState.sortBy(lambda x: -x[1]).collect()"
   ]
  },
  {
   "cell_type": "code",
   "execution_count": 19,
   "metadata": {
    "collapsed": false
   },
   "outputs": [
    {
     "data": {
      "text/plain": [
       "[(13, 0.077),\n",
       " (12, 0.08650000000000001),\n",
       " (11, 0.083),\n",
       " (10, 0.08038709677419355),\n",
       " (9, 0.08186486486486486),\n",
       " (8, 0.07835714285714288),\n",
       " (7, 0.0705047619047619),\n",
       " (6, 0.0666241610738255),\n",
       " (5, 0.062432098765432105),\n",
       " (4, 0.05627096774193549),\n",
       " (3, 0.05681407035175878),\n",
       " (2, 0.05362251655629136),\n",
       " (1, 0.05106018518518515),\n",
       " (0, 0.048300000000000023)]"
      ]
     },
     "execution_count": 19,
     "metadata": {},
     "output_type": "execute_result"
    }
   ],
   "source": [
    "# Beer IBU to ABV frequency distribution\n",
    "beerIBUToABVAndCount = beerParsed.map(lambda x: (int(x.ibu/10), x.abv)) \\\n",
    "                            .combineByKey((lambda value: (value, 1)), \\\n",
    "                                         (lambda acc, value: (acc[0] + value, acc[1] + 1)), \\\n",
    "                                         (lambda acc1, acc2: (acc1[0] + acc2[0], acc1[1] + acc2[1])))\n",
    "    \n",
    "# Frequency Distribution\n",
    "beerIBUToABVFrqDist = beerIBUToABVAndCount.map(lambda x: (x[0], x[1][0]/x[1][1]))\n",
    "beerIBUToABVFrqDist.sortBy(lambda x: -x[0]).collect()"
   ]
  },
  {
   "cell_type": "code",
   "execution_count": 20,
   "metadata": {
    "collapsed": true
   },
   "outputs": [],
   "source": [
    "# ABV and IBU are almost directly proportional, but \n",
    "# ABV ~ Alcohol by Volume\n",
    "# IBU ~ International Bittering Units"
   ]
  }
 ],
 "metadata": {
  "kernelspec": {
   "display_name": "Python 2",
   "language": "python",
   "name": "python2"
  },
  "language_info": {
   "codemirror_mode": {
    "name": "ipython",
    "version": 2
   },
   "file_extension": ".py",
   "mimetype": "text/x-python",
   "name": "python",
   "nbconvert_exporter": "python",
   "pygments_lexer": "ipython2",
   "version": "2.7.13"
  }
 },
 "nbformat": 4,
 "nbformat_minor": 2
}
